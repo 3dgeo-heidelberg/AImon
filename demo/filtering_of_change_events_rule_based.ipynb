{
 "cells": [
  {
   "cell_type": "code",
   "execution_count": 1,
   "id": "f2d22314",
   "metadata": {},
   "outputs": [],
   "source": [
    "import os\n",
    "import json\n",
    "import numpy as np\n",
    "import pandas as pd\n",
    "import matplotlib.pyplot as plt"
   ]
  },
  {
   "cell_type": "code",
   "execution_count": 6,
   "id": "75f9fd91",
   "metadata": {},
   "outputs": [],
   "source": [
    "def load_change_events(change_events_file):\n",
    "    \"\"\"\n",
    "    Load the change events from a JSON file.\n",
    "    \"\"\"\n",
    "    if not os.path.exists(change_events_file):\n",
    "        raise FileNotFoundError(f\"{change_events_file} does not exist\")\n",
    "    with open(change_events_file, 'r') as f:\n",
    "        events = json.load(f)\n",
    "    return events\n",
    "\n",
    "def extract_features(events):\n",
    "    \"\"\"\n",
    "    Convert the change events into a feature matrix.\n",
    "    This example assumes each event contains an \"object_id\".\n",
    "    The features include:\n",
    "      - Change magnitude statistics (mean, std, min, max, median, quant90, quant95, quant99)\n",
    "      - Convex hull properties (hull surface area, volume, and ratio)\n",
    "      - Geometric features from both epochs\n",
    "    \"\"\"\n",
    "    rows = []\n",
    "    for event in events:\n",
    "        row = {}\n",
    "        # Change magnitude statistics\n",
    "        change_mags = event.get('change_magnitudes', {})\n",
    "        for stat in ['mean', 'std', 'min', 'max', 'median', 'quant90', 'quant95', 'quant99']:\n",
    "            row[f'change_{stat}'] = change_mags.get(stat, np.nan)\n",
    "        \n",
    "        # Convex hull properties\n",
    "        convex_hull = event.get('convex_hull', {})\n",
    "        row['hull_surface_area'] = convex_hull.get('surface_area', np.nan)\n",
    "        row['hull_volume'] = convex_hull.get('volume', np.nan)\n",
    "        row['hull_surf_vol_ratio'] = convex_hull.get('surface_area_to_volume_ratio', np.nan)\n",
    "        \n",
    "        # Geometric features from both epochs (if available)\n",
    "        geom = event.get('geometric_features_both_epochs', {})\n",
    "        for feat in ['sum_of_eigenvalues', 'omnivariance', 'eigentropy', 'anisotropy',\n",
    "                     'planarity', 'linearity', 'surface_variation', 'sphericity', 'verticality']:\n",
    "            row[f'geom_{feat}'] = geom.get(feat, np.nan)\n",
    "        \n",
    "        # Unique identifier and event type (if provided)\n",
    "        row['object_id'] = event.get('object_id')\n",
    "        row[\"event_type\"] = event.get('event_type', np.nan)\n",
    "        \n",
    "        rows.append(row)\n",
    "    df = pd.DataFrame(rows)\n",
    "    return df\n",
    "\n",
    "def filter_event(row, rules):\n",
    "    \"\"\"\n",
    "    Filter an event based on a set of rule conditions.\n",
    "    \n",
    "    If the event is already classified—that is, if the 'classification' key exists \n",
    "    and is not \"unclassified\"—then the row is kept as is.\n",
    "    \n",
    "    Otherwise, the function checks the rules (a dictionary structured as follows):\n",
    "    \n",
    "      rules = {\n",
    "          \"label_name\": {\n",
    "              \"feature1\": {\"min\": value, \"max\": value},\n",
    "              \"feature2\": {\"min\": value},\n",
    "              ...\n",
    "          },\n",
    "          ... \n",
    "      }\n",
    "      \n",
    "    For each label, the event meets the criteria if, for every specified feature:\n",
    "       - The feature's value is not NaN.\n",
    "       - If a \"min\" is specified, the value is >= min.\n",
    "       - If a \"max\" is specified, the value is <= max.\n",
    "       \n",
    "    If any rule is satisfied, the function sets the event's classification to that label \n",
    "    and returns True (meaning the event should be kept).\n",
    "    \n",
    "    If no rules apply, the function returns False so that the row can be removed.\n",
    "    \n",
    "    Returns:\n",
    "        bool: True if the event is classified (or already had a classification) and should \n",
    "              be kept, False otherwise.\n",
    "    \"\"\"\n",
    "    # If the row already carries a valid classification, preserve it.\n",
    "    if row.get('classification', 'unclassified') != 'unclassified':\n",
    "        return True\n",
    "    \n",
    "    # Check each rule.\n",
    "    for label, conditions in rules.items():\n",
    "        meets_conditions = True\n",
    "        for feature, thresholds in conditions.items():\n",
    "            value = row.get(feature, np.nan)\n",
    "            if pd.isna(value):\n",
    "                meets_conditions = False\n",
    "                break\n",
    "            if \"min\" in thresholds and value < thresholds[\"min\"]:\n",
    "                meets_conditions = False\n",
    "                break\n",
    "            if \"max\" in thresholds and value > thresholds[\"max\"]:\n",
    "                meets_conditions = False\n",
    "                break\n",
    "        if meets_conditions:\n",
    "            # Assign the new classification.\n",
    "            row['classification'] = label\n",
    "            return True\n",
    "            \n",
    "    # If no conditions are met, return False (event will be filtered out).\n",
    "    return False"
   ]
  },
  {
   "cell_type": "markdown",
   "id": "9beb1a41",
   "metadata": {},
   "source": [
    "### Define rules"
   ]
  },
  {
   "cell_type": "code",
   "execution_count": 18,
   "id": "29e64b81",
   "metadata": {},
   "outputs": [],
   "source": [
    "# Define a dictionary for rule-based filtering.\n",
    "# All filters are applied sequentially and combined with OR logic.\n",
    "\n",
    "filter_rules = {\n",
    "    \"first_filter\": {\n",
    "         \"change_mean\": {\"min\": 0.2, \"max\": 10},\n",
    "         \"hull_volume\": {\"min\": 100}\n",
    "    },\n",
    "    \"second_filter\": {\n",
    "         \"change_mean\": {\"max\": 0.2}\n",
    "    },\n",
    "    \"third_filter\": {\n",
    "         \"change_mean\": {\"min\": 1, \"max\": 5},\n",
    "         \"hull_volume\": {\"min\": 5, \"max\": 10}\n",
    "    },\n",
    "}\n"
   ]
  },
  {
   "cell_type": "markdown",
   "id": "e8e6df90",
   "metadata": {},
   "source": [
    "### Load the data"
   ]
  },
  {
   "cell_type": "code",
   "execution_count": 8,
   "id": "7e92d745",
   "metadata": {},
   "outputs": [],
   "source": [
    "# Set current directory to the location of the notebook (works even if __file__ is not defined)\n",
    "try:\n",
    "    current_dir = os.path.dirname(os.path.abspath(__file__))\n",
    "except NameError:\n",
    "    current_dir = os.getcwd()\n",
    "\n",
    "os.chdir(current_dir)\n",
    "\n",
    "# Path to the unlabelled change events test file\n",
    "change_events_file = \"../test_data/change_events_unlabelled.json\"\n",
    "filtered_file = os.path.join(os.path.dirname(change_events_file), 'change_events_filtered_rule_based.json')\n",
    "\n",
    "# Load the change events\n",
    "events = load_change_events(change_events_file)"
   ]
  },
  {
   "cell_type": "markdown",
   "id": "b63077ca",
   "metadata": {},
   "source": [
    "### Extract features from the events"
   ]
  },
  {
   "cell_type": "code",
   "execution_count": 9,
   "id": "a38d2ee2",
   "metadata": {},
   "outputs": [],
   "source": [
    "# Extract features into a DataFrame\n",
    "features_df = extract_features(events)"
   ]
  },
  {
   "cell_type": "code",
   "execution_count": null,
   "id": "957eb644",
   "metadata": {},
   "outputs": [],
   "source": [
    "features_df = features_df[features_df.apply(lambda row: filter_event(row, filter_rules), axis=1)]"
   ]
  },
  {
   "cell_type": "markdown",
   "id": "9ed0fc78",
   "metadata": {},
   "source": [
    "### Save clustered change events"
   ]
  },
  {
   "cell_type": "code",
   "execution_count": 11,
   "id": "060f19f7",
   "metadata": {},
   "outputs": [],
   "source": [
    "# Create a mapping from object_id to the chosen cluster label (event_type)\n",
    "label_mapping = dict(zip(features_df['object_id'], features_df['event_type']))\n",
    "\n",
    "# Update the original events by matching them by object_id.\n",
    "for event in events:\n",
    "    obj_id = event.get('object_id')\n",
    "    if obj_id in label_mapping:\n",
    "        event['event_type'] = label_mapping[obj_id]\n",
    "    else:\n",
    "        # Mark events dropped due to missing features as None\n",
    "        event['event_type'] = None\n",
    "\n",
    "# Save the updated events to a new JSON file.\n",
    "with open(filtered_file, 'w') as f:\n",
    "    json.dump(events, f, indent=4)"
   ]
  },
  {
   "cell_type": "markdown",
   "id": "804ce2bc",
   "metadata": {},
   "source": [
    "### Visualize remaining data"
   ]
  },
  {
   "cell_type": "code",
   "execution_count": 17,
   "id": "7c5dff54",
   "metadata": {},
   "outputs": [
    {
     "data": {
      "image/png": "[encoded data removed]",
      "text/plain": [
       "<Figure size 500x400 with 1 Axes>"
      ]
     },
     "metadata": {},
     "output_type": "display_data"
    }
   ],
   "source": [
    "plt.figure(figsize=(5, 4))\n",
    "plt.scatter(features_df['change_mean'], features_df['hull_volume'], label='Remaining data', s=1, color = 'black')\n",
    "\n",
    "plt.yscale('log')\n",
    "plt.legend()\n",
    "plt.xlabel('Change Mean')\n",
    "plt.ylabel('Hull Volume')\n",
    "plt.title('Filtered Change Events')\n",
    "plt.show()"
   ]
  }
 ],
 "metadata": {
  "kernelspec": {
   "display_name": "Python 3",
   "language": "python",
   "name": "python3"
  },
  "language_info": {
   "codemirror_mode": {
    "name": "ipython",
    "version": 3
   },
   "file_extension": ".py",
   "mimetype": "text/x-python",
   "name": "python",
   "nbconvert_exporter": "python",
   "pygments_lexer": "ipython3",
   "version": "3.11.11"
  }
 },
 "nbformat": 4,
 "nbformat_minor": 5
}
