{
 "cells": [
  {
   "cell_type": "code",
   "execution_count": null,
   "id": "502e3fef",
   "metadata": {},
   "outputs": [],
   "source": [
    "from aimon.helpers.classification import load_and_prepare_data_for_training, train_random_forest, evaluate_model, apply_trained_model_to_unlabelled_data, save_model, load_model\n",
    "from aimon import ProjectChange\n",
    "from sklearn.model_selection import train_test_split\n",
    "import os \n",
    "\n",
    "# Set current directory to the location of the notebook (works even if __file__ is not defined)\n",
    "try:\n",
    "    current_dir = os.path.dirname(os.path.abspath(__file__))\n",
    "except NameError:\n",
    "    current_dir = os.getcwd()\n",
    "\n",
    "os.chdir(current_dir)\n"
   ]
  },
  {
   "cell_type": "code",
   "execution_count": null,
   "id": "a5042585",
   "metadata": {},
   "outputs": [],
   "source": [
    "# Path to the unlabelled change events test file\n",
    "labelled_file = \"../test_data/change_events_labelled.json\"\n",
    "unlabelled_file = \"../test_data/change_events_unlabelled.json\"\n",
    "outfolder = \"../test_data/out\"\n",
    "\n",
    "random_state = 3\n",
    "# Define hyperparameter grid\n",
    "param_grid = {\n",
    "    'n_estimators': [50, 100, 200],\n",
    "    'max_depth': [None, 5, 10, 20, 30],\n",
    "    'min_samples_split': [2, 5, 10],\n",
    "    'min_samples_leaf': [1, 2, 4],\n",
    "    'max_features': ['sqrt', 'log2', None],\n",
    "    'bootstrap': [True]\n",
    "}\n",
    "\n",
    "# Predefined paths for output\n",
    "predicted_file = os.path.join(outfolder, \"change_events_labelled_using_random_forest.json\")\n",
    "model_file = os.path.join(outfolder, \"best_model.joblib\")\n",
    "os.makedirs(outfolder, exist_ok=True)"
   ]
  },
  {
   "cell_type": "code",
   "execution_count": null,
   "id": "61adb628",
   "metadata": {},
   "outputs": [],
   "source": [
    "# Load and prepare the data for training\n",
    "X, y, labels = load_and_prepare_data_for_training(labelled_file)\n",
    "\n",
    "# Split the data into training and testing sets\n",
    "X_train, X_test, y_train, y_test =  train_test_split(X, y, test_size=0.2, random_state=random_state)\n",
    "\n",
    "# Train model with grid search\n",
    "best_rf, _ = train_random_forest(X_train, y_train, param_grid, random_state)\n",
    "\n",
    "# Evaluate the trained model\n",
    "evaluate_model(best_rf, X_test, y_test, labels)\n",
    "\n",
    "# Apply the trained model to unlabelled data\n",
    "apply_trained_model_to_unlabelled_data(best_rf, unlabelled_file, predicted_file)"
   ]
  },
  {
   "cell_type": "markdown",
   "id": "fe1bdcd1",
   "metadata": {},
   "source": [
    "# Save to .geojson for visual inspection"
   ]
  },
  {
   "cell_type": "code",
   "execution_count": null,
   "id": "822b4be4",
   "metadata": {},
   "outputs": [],
   "source": [
    "change_prj = ProjectChange(change_event_file = predicted_file,\n",
    "                           project_name = os.path.basename(predicted_file)[:-4],\n",
    "                           projected_image_folder = \"\",\n",
    "                           projected_events_folder = outfolder,\n",
    "                           epsg=31254)\n",
    "change_prj.project_change()"
   ]
  },
  {
   "cell_type": "markdown",
   "id": "5218fdfd",
   "metadata": {},
   "source": [
    "### Optional: Save and load the model"
   ]
  },
  {
   "cell_type": "code",
   "execution_count": null,
   "id": "bdc9d417",
   "metadata": {},
   "outputs": [],
   "source": [
    "save_model(best_rf, model_file)\n",
    "load_model(model_file)"
   ]
  }
 ],
 "metadata": {
  "kernelspec": {
   "display_name": "Python 3",
   "language": "python",
   "name": "python3"
  },
  "language_info": {
   "codemirror_mode": {
    "name": "ipython",
    "version": 3
   },
   "file_extension": ".py",
   "mimetype": "text/x-python",
   "name": "python",
   "nbconvert_exporter": "python",
   "pygments_lexer": "ipython3",
   "version": "3.11.11"
  }
 },
 "nbformat": 4,
 "nbformat_minor": 5
}
