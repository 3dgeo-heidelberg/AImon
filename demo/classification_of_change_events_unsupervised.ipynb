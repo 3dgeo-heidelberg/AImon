{
 "cells": [
  {
   "cell_type": "markdown",
   "id": "af8ab2dd",
   "metadata": {},
   "source": [
    "This notebook performs the following steps:\n",
    "\n",
    "- Imports necessary libraries for data manipulation, visualization, and machine learning.\n",
    "- Defines utility functions to load change events from a JSON file, extract a variety of features into a DataFrame, and plot clusters.\n",
    "- Loads change events, extracts features, and removes incomplete data.\n",
    "- Standardizes the features and uses UMAP to reduce dimensionality for clustering and visualization.\n",
    "- Applies Gaussian Mixture Model clustering to assign cluster labels.\n",
    "- Updates the original events with the new cluster labels and saves the results to a new JSON file."
   ]
  },
  {
   "cell_type": "code",
   "execution_count": null,
   "id": "f2d22314",
   "metadata": {},
   "outputs": [],
   "source": [
    "# Install missing packages if required: UMAP with pip install umap-learn in notebook\n",
    "\n",
    "!python -m pip install umap-learn scikit-learn pandas matplotlib\n",
    "from aimon.helpers.classification import map_label_to_unlabelled_collection, save_events_to_json, plot_umap_clusters,load_and_prepare_data_for_UMAP\n",
    "from aimon import ProjectChange\n",
    "import os\n",
    "from sklearn.mixture import GaussianMixture\n",
    "import umap.umap_ as umap  # UMAP for dimensionality reduction\n",
    "\n",
    "# Set current directory to the location of the notebook (works even if __file__ is not defined)\n",
    "try:\n",
    "    current_dir = os.path.dirname(os.path.abspath(__file__))\n",
    "except NameError:\n",
    "    current_dir = os.getcwd()\n",
    "\n",
    "os.chdir(current_dir)"
   ]
  },
  {
   "cell_type": "markdown",
   "id": "bf64584f",
   "metadata": {},
   "source": [
    "### Relevant parameters"
   ]
  },
  {
   "cell_type": "code",
   "execution_count": null,
   "id": "4503f5cb",
   "metadata": {},
   "outputs": [],
   "source": [
    "# Path to the unlabelled change events test file. Lets assume that the events are not labelled yet and we want to label them using UMAP and GMM.\n",
    "change_events_file = \"../test_data/change_events_labelled.json\"\n",
    "outfolder = \"../test_data/out\"\n",
    "\n",
    "random_state=42\n",
    "# Parameter for UMAP \n",
    "n_neighbors=100\n",
    "min_dist=0.1\n",
    "n_components_umap=2\n",
    "metric = \"manhattan\" \n",
    "\n",
    "# Parameter for clustering\n",
    "n_components_GMM=4\n",
    "\n",
    "os.makedirs(outfolder, exist_ok=True)\n",
    "# Path to the labelled change events file\n",
    "change_events_file_labelled = os.path.join(outfolder,\"change_events_labelled_using_umap_and_gmm.json\")"
   ]
  },
  {
   "cell_type": "markdown",
   "id": "027bf8df",
   "metadata": {},
   "source": [
    "### Load unlabelled change events and reduce the dimensionality of the feature set using UMAP"
   ]
  },
  {
   "cell_type": "code",
   "execution_count": null,
   "id": "48ba2c5b",
   "metadata": {},
   "outputs": [],
   "source": [
    "features_df_without_id, features_df, X_scaled, unlabelled_coll = load_and_prepare_data_for_UMAP(change_events_file)\n",
    "\n",
    "# UMAP for enhanced clustering\n",
    "reducer = umap.UMAP(n_neighbors=n_neighbors,\n",
    "                    min_dist=min_dist,\n",
    "                    n_components=n_components_umap, \n",
    "                    random_state=random_state,\n",
    "                    metric=metric)\n",
    "\n",
    "# Fit UMAP to the scaled data\n",
    "# Note: X_scaled is the scaled data, which is used for UMAP fitting and transformation\n",
    "X_umap = reducer.fit_transform(X_scaled)"
   ]
  },
  {
   "cell_type": "markdown",
   "id": "034683c2",
   "metadata": {},
   "source": [
    "### Gaussian Mixture Model Clustering"
   ]
  },
  {
   "cell_type": "code",
   "execution_count": null,
   "id": "518e7cdb",
   "metadata": {},
   "outputs": [],
   "source": [
    "# Clustering using Gaussian Mixture Model (GMM)\n",
    "gmm = GaussianMixture(n_components=n_components_GMM, random_state=random_state)\n",
    "labels = gmm.fit_predict(X_umap)\n",
    "# Overwrite the labels in the features_df\n",
    "features_df['event_type'] = labels"
   ]
  },
  {
   "cell_type": "markdown",
   "id": "7b4b64bd",
   "metadata": {},
   "source": [
    "### Plot UMAP clusters"
   ]
  },
  {
   "cell_type": "code",
   "execution_count": null,
   "id": "8c06aca6",
   "metadata": {},
   "outputs": [],
   "source": [
    "# Plot UMAP clusters\n",
    "plot_umap_clusters(X_umap, labels)"
   ]
  },
  {
   "cell_type": "markdown",
   "id": "9ed0fc78",
   "metadata": {},
   "source": [
    "### Save clustered change events"
   ]
  },
  {
   "cell_type": "code",
   "execution_count": null,
   "id": "060f19f7",
   "metadata": {},
   "outputs": [],
   "source": [
    "unlabelled_coll = map_label_to_unlabelled_collection(unlabelled_coll, features_df)\n",
    "save_events_to_json(unlabelled_coll, change_events_file_labelled)"
   ]
  },
  {
   "cell_type": "markdown",
   "id": "e0198f0b",
   "metadata": {},
   "source": [
    "# Save to .geojson for visual inspection"
   ]
  },
  {
   "cell_type": "code",
   "execution_count": null,
   "id": "bc27368f",
   "metadata": {},
   "outputs": [],
   "source": [
    "change_prj = ProjectChange(change_event_file = change_events_file_labelled,\n",
    "                           project_name = os.path.basename(change_events_file_labelled)[:-4],\n",
    "                           projected_image_folder = \"\",\n",
    "                           projected_events_folder = outfolder,\n",
    "                           epsg=31254)\n",
    "change_prj.project_change()"
   ]
  }
 ],
 "metadata": {
  "kernelspec": {
   "display_name": "Python 3",
   "language": "python",
   "name": "python3"
  },
  "language_info": {
   "codemirror_mode": {
    "name": "ipython",
    "version": 3
   },
   "file_extension": ".py",
   "mimetype": "text/x-python",
   "name": "python",
   "nbconvert_exporter": "python",
   "pygments_lexer": "ipython3",
   "version": "3.11.11"
  }
 },
 "nbformat": 4,
 "nbformat_minor": 5
}
