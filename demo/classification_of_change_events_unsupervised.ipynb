{
 "cells": [
  {
   "cell_type": "markdown",
   "id": "af8ab2dd",
   "metadata": {},
   "source": [
    "This notebook performs the following steps:\n",
    "\n",
    "- Imports necessary libraries for data manipulation, visualization, and machine learning.\n",
    "- Defines utility functions to load change events from a JSON file, extract a variety of features into a DataFrame, and plot clusters.\n",
    "- Loads change events, extracts features, and removes incomplete data.\n",
    "- Standardizes the features and uses UMAP to reduce dimensionality for clustering and visualization.\n",
    "- Applies Gaussian Mixture Model clustering to assign cluster labels.\n",
    "- Updates the original events with the new cluster labels and saves the results to a new JSON file."
   ]
  },
  {
   "cell_type": "code",
   "execution_count": null,
   "id": "f2d22314",
   "metadata": {},
   "outputs": [],
   "source": [
    "# Install missing packages if required: UMAP with pip install umap-learn in notebook\n",
    "\n",
    "!python -m pip install umap-learn scikit-learn pandas matplotlib\n",
    "from aimon import ProjectChange\n",
    "import os\n",
    "from sklearn.mixture import GaussianMixture\n",
    "from aimon import ChangeEventCollection\n",
    "\n",
    "# Set current directory to the location of the notebook (works even if __file__ is not defined)\n",
    "try:\n",
    "    current_dir = os.path.dirname(os.path.abspath(__file__))\n",
    "except NameError:\n",
    "    current_dir = os.getcwd()\n",
    "\n",
    "os.chdir(current_dir)"
   ]
  },
  {
   "cell_type": "markdown",
   "id": "bf64584f",
   "metadata": {},
   "source": [
    "### Relevant parameters"
   ]
  },
  {
   "cell_type": "code",
   "execution_count": null,
   "id": "4503f5cb",
   "metadata": {},
   "outputs": [],
   "source": [
    "# Path to the unlabelled change events test file. Lets assume that the events are not labelled yet and we want to label them using UMAP and GMM.\n",
    "change_events_file = \"../test_data/change_events_labelled.json\"\n",
    "outfolder = \"../test_data/out\"\n",
    "\n",
    "random_state=3\n",
    "# Parameter for UMAP \n",
    "n_neighbors=100\n",
    "min_dist=0.1\n",
    "n_components_umap=2\n",
    "metric = \"manhattan\" \n",
    "\n",
    "# Parameter for clustering\n",
    "n_components_GMM=4\n",
    "\n",
    "os.makedirs(outfolder, exist_ok=True)\n",
    "# Path to the labelled change events file\n",
    "change_events_file_labelled = os.path.join(outfolder,\"change_events_labelled_using_umap_and_gmm.json\")\n",
    "#Path to saved umap model\n",
    "umap_model_file = os.path.join(outfolder,\"umap_model.joblib\")"
   ]
  },
  {
   "cell_type": "markdown",
   "id": "027bf8df",
   "metadata": {},
   "source": [
    "### Load unlabelled change events and reduce the dimensionality of the feature set using UMAP"
   ]
  },
  {
   "cell_type": "code",
   "execution_count": null,
   "id": "6e5f9f9c",
   "metadata": {},
   "outputs": [],
   "source": [
    "ces = ChangeEventCollection.load_from_file(change_events_file)\n",
    "# Use only events that are labelled\n",
    "ces.events = ces.filter_events_rule_based({\"event_type\":{\"not_in\":\"undefined\"}})\n",
    "ces.prep_data_for_umap(ignore_features=[\"object_id\", \"event_type\", \"delta_t_hours\", \"hull_surface_area\", \"hull_volume\",\"number_of_points\"],\n",
    "                       supervised_label=\"event_type\")\n",
    "ces.fit_UMAP(n_neighbors=n_neighbors, \n",
    "             min_dist=min_dist, \n",
    "             n_components=n_components_umap, \n",
    "             metric=metric, \n",
    "             random_state=random_state)\n",
    "ces.transform_UMAP()\n",
    "ces.save_UMAP_model(umap_model_file)"
   ]
  },
  {
   "cell_type": "code",
   "execution_count": null,
   "id": "935f2e4f",
   "metadata": {},
   "outputs": [],
   "source": [
    "ces.plot_UMAP()\n",
    "ces.plot_feature_expression_heatmap(cmap=\"Reds\")"
   ]
  },
  {
   "cell_type": "markdown",
   "id": "240c3982",
   "metadata": {},
   "source": []
  },
  {
   "cell_type": "code",
   "execution_count": null,
   "id": "48ba2c5b",
   "metadata": {},
   "outputs": [],
   "source": [
    "fitted_umap_model = ces.umap_reducer\n",
    "ces_undef = ChangeEventCollection.load_from_file(change_events_file)\n",
    "# Use only events that are labelled\n",
    "# ces_undef.events = ces_undef.filter_events_rule_based({\"event_type\":{\"in\":\"undefined\"}})\n",
    "ces_undef.prep_data_for_umap(ignore_features=[\"object_id\", \"event_type\", \"delta_t_hours\", \"hull_surface_area\", \"hull_volume\",\"number_of_points\"],\n",
    "                             supervised_label=\"event_type\")\n",
    "ces_undef.umap_reducer = fitted_umap_model\n",
    "ces_undef.transform_UMAP()\n",
    "ces_undef.plot_UMAP()\n",
    "ces_undef.plot_feature_expression_heatmap()"
   ]
  },
  {
   "cell_type": "markdown",
   "id": "034683c2",
   "metadata": {},
   "source": [
    "### Gaussian Mixture Model Clustering"
   ]
  },
  {
   "cell_type": "code",
   "execution_count": null,
   "id": "518e7cdb",
   "metadata": {},
   "outputs": [],
   "source": [
    "import numpy as np\n",
    "# Clustering using Gaussian Mixture Model (GMM)\n",
    "gmm = GaussianMixture(n_components=3, random_state=random_state)\n",
    "ces_undef.y_umap = gmm.fit_predict(ces_undef.X_umap_transformed)\n",
    "ces_undef.y_label_map = {}\n",
    "for i in np.unique(ces_undef.y_umap):\n",
    "    ces_undef.y_label_map[i] = f\"Cluster {i}\"\n",
    "# Plot UMAP clustered by GMM\n",
    "ces_undef.plot_UMAP()"
   ]
  },
  {
   "cell_type": "markdown",
   "id": "e0198f0b",
   "metadata": {},
   "source": [
    "# Save to .geojson for visual inspection"
   ]
  },
  {
   "cell_type": "code",
   "execution_count": null,
   "id": "bc27368f",
   "metadata": {},
   "outputs": [],
   "source": [
    "change_prj = ProjectChange(change_event_file = change_events_file_labelled,\n",
    "                           project_name = os.path.basename(change_events_file_labelled)[:-4],\n",
    "                           projected_image_folder = \"\",\n",
    "                           projected_events_folder = outfolder,\n",
    "                           epsg=31254)\n",
    "change_prj.project_change()"
   ]
  }
 ],
 "metadata": {
  "kernelspec": {
   "display_name": "Python 3",
   "language": "python",
   "name": "python3"
  },
  "language_info": {
   "codemirror_mode": {
    "name": "ipython",
    "version": 3
   },
   "file_extension": ".py",
   "mimetype": "text/x-python",
   "name": "python",
   "nbconvert_exporter": "python",
   "pygments_lexer": "ipython3",
   "version": "3.11.11"
  }
 },
 "nbformat": 4,
 "nbformat_minor": 5
}
