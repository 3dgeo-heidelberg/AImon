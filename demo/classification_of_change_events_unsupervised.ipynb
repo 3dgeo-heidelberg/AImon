{
 "cells": [
  {
   "cell_type": "markdown",
   "id": "af8ab2dd",
   "metadata": {},
   "source": [
    "This notebook performs the following steps:\n",
    "\n",
    "- Imports necessary libraries for data manipulation, visualization, and machine learning.\n",
    "- Defines utility functions to load change events from a JSON file, extract a variety of features into a DataFrame, and plot clusters.\n",
    "- Loads change events, extracts features, and removes incomplete data.\n",
    "- Standardizes the features and uses UMAP to reduce dimensionality for clustering and visualization.\n",
    "- Applies Gaussian Mixture Model clustering to assign cluster labels.\n",
    "- Updates the original events with the new cluster labels and saves the results to a new JSON file."
   ]
  },
  {
   "cell_type": "code",
   "execution_count": 1,
   "id": "f2d22314",
   "metadata": {},
   "outputs": [
    {
     "name": "stderr",
     "output_type": "stream",
     "text": [
      "c:\\Users\\nc298\\AppData\\Local\\anaconda3\\envs\\m4dvap\\Lib\\site-packages\\tqdm\\auto.py:21: TqdmWarning: IProgress not found. Please update jupyter and ipywidgets. See https://ipywidgets.readthedocs.io/en/stable/user_install.html\n",
      "  from .autonotebook import tqdm as notebook_tqdm\n"
     ]
    }
   ],
   "source": [
    "# Install missing packages if required: UMAP with pip install umap-learn in notebook\n",
    "\n",
    "# !python -m pip install umap-learn scikit-learn pandas matplotlib\n",
    "\n",
    "import os\n",
    "import json\n",
    "import numpy as np\n",
    "import pandas as pd\n",
    "import matplotlib.pyplot as plt\n",
    "from sklearn.preprocessing import StandardScaler\n",
    "from sklearn.decomposition import PCA\n",
    "from sklearn.cluster import KMeans\n",
    "from sklearn.mixture import GaussianMixture\n",
    "import umap.umap_ as umap  # UMAP for dimensionality reduction"
   ]
  },
  {
   "cell_type": "code",
   "execution_count": 2,
   "id": "75f9fd91",
   "metadata": {},
   "outputs": [],
   "source": [
    "def load_change_events(change_events_file):\n",
    "    \"\"\"\n",
    "    Load the change events from a JSON file.\n",
    "    \"\"\"\n",
    "    if not os.path.exists(change_events_file):\n",
    "        raise FileNotFoundError(f\"{change_events_file} does not exist\")\n",
    "    with open(change_events_file, 'r') as f:\n",
    "        events = json.load(f)\n",
    "    return events\n",
    "\n",
    "def extract_features(events):\n",
    "    \"\"\"\n",
    "    Convert the change events into a feature matrix.\n",
    "    This example assumes each event contains an \"object_id\".\n",
    "    The features include:\n",
    "      - Basic event info (e.g., delta_t_hours, number_of_points)\n",
    "      - Change magnitude statistics (mean, std, min, max, median, quant90, quant95, quant99)\n",
    "      - Convex hull properties (hull surface area, volume, and ratio)\n",
    "      - Geometric features from both epochs\n",
    "    \"\"\"\n",
    "    rows = []\n",
    "    for event in events:\n",
    "        row = {}\n",
    "        # Basic features\n",
    "        # row['delta_t_hours'] = event.get('delta_t_hours', np.nan)\n",
    "        # row['number_of_points'] = event.get('number_of_points', np.nan)\n",
    "        \n",
    "        # Change magnitude statistics\n",
    "        change_mags = event.get('change_magnitudes', {})\n",
    "        for stat in ['mean', 'std', 'min', 'max', 'median', 'quant90', 'quant95', 'quant99']:\n",
    "            row[f'change_{stat}'] = change_mags.get(stat, 0)\n",
    "\n",
    "        # Convex hull properties\n",
    "        convex_hull = event.get('convex_hull', {})\n",
    "        # row['hull_surface_area'] = convex_hull.get('surface_area', 0)\n",
    "        # row['hull_volume'] = convex_hull.get('volume', 0)\n",
    "        row['hull_surf_vol_ratio'] = convex_hull.get('surface_area_to_volume_ratio', 0)\n",
    "        \n",
    "        # Geometric features from both epochs (if available)\n",
    "        geom = event.get('geometric_features_both_epochs', {})\n",
    "        for feat in ['sum_of_eigenvalues', 'omnivariance', 'eigentropy', 'anisotropy',\n",
    "                     'planarity', 'linearity', 'surface_variation', 'sphericity', 'verticality']:\n",
    "            row[f'geom_{feat}'] = geom.get(feat, 0)\n",
    "\n",
    "        geo_epoch_1 = event.get('geometric_features_epoch_1', {})\n",
    "        for feat in ['sum_of_eigenvalues', 'omnivariance', 'eigentropy', 'anisotropy',\n",
    "                     'planarity', 'linearity', 'surface_variation', 'sphericity', 'verticality']:\n",
    "            row[f'geo_epoch_1_{feat}'] = geo_epoch_1.get(feat, 0)\n",
    "\n",
    "        geo_epoch_2 = event.get('geometric_features_epoch_2', {})\n",
    "        for feat in ['sum_of_eigenvalues', 'omnivariance', 'eigentropy', 'anisotropy',\n",
    "                     'planarity', 'linearity', 'surface_variation', 'sphericity', 'verticality']:\n",
    "            row[f'geo_epoch_2_{feat}'] = geo_epoch_2.get(feat, 0)\n",
    "        \n",
    "        # Keep the unique identifier\n",
    "        row['object_id'] = event.get('object_id')\n",
    "        row[\"event_type\"] = event.get('event_type', \"undefined\")\n",
    "        \n",
    "        rows.append(row)\n",
    "    df = pd.DataFrame(rows)\n",
    "    return df"
   ]
  },
  {
   "cell_type": "markdown",
   "id": "bf64584f",
   "metadata": {},
   "source": [
    "### Relevant parameters"
   ]
  },
  {
   "cell_type": "code",
   "execution_count": null,
   "id": "4503f5cb",
   "metadata": {},
   "outputs": [],
   "source": [
    "random_state=42\n",
    "\n",
    "# Parameter for UMAP \n",
    "n_neighbors=50\n",
    "min_dist=0.1\n",
    "n_components_umap=2\n",
    "metric = \"manhattan\" \n",
    "\n",
    "# Parameter for clustering\n",
    "n_components_GMM=3"
   ]
  },
  {
   "cell_type": "markdown",
   "id": "e8e6df90",
   "metadata": {},
   "source": [
    "### Load the data"
   ]
  },
  {
   "cell_type": "code",
   "execution_count": null,
   "id": "7e92d745",
   "metadata": {},
   "outputs": [],
   "source": [
    "# Set current directory to the location of the notebook (works even if __file__ is not defined)\n",
    "try:\n",
    "    current_dir = os.path.dirname(os.path.abspath(__file__))\n",
    "except NameError:\n",
    "    current_dir = os.getcwd()\n",
    "\n",
    "os.chdir(current_dir)\n",
    "\n",
    "# Path to the unlabelled change events test file\n",
    "change_events_file = \"../test_data/change_events_unlabelled.json\"\n",
    "outfolder = \"../test_data/out\"\n",
    "\n",
    "os.mkdir(outfolder, exist_ok=True)\n",
    "# Path to the labelled change events file\n",
    "change_events_file_labelled = \"../test_data/change_events_labelled_using_umap_and_gmm.json\"\n"
   ]
  },
  {
   "cell_type": "markdown",
   "id": "b63077ca",
   "metadata": {},
   "source": [
    "### Extract features from the events"
   ]
  },
  {
   "cell_type": "code",
   "execution_count": null,
   "id": "a38d2ee2",
   "metadata": {},
   "outputs": [],
   "source": [
    "\n",
    "# Load the change events\n",
    "events = load_change_events(change_events_file)# Extract features into a DataFrame\n",
    "features_df = extract_features(events)\n",
    "\n",
    "# Handle missing values by dropping them\n",
    "features_df = features_df.dropna()\n",
    "if features_df.empty:\n",
    "    raise ValueError(\"No complete data available after dropping missing values.\")\n",
    "\n",
    "# Separate the identifier from features\n",
    "features_df_without_id = features_df.drop(columns=[\"object_id\",\"event_type\"])"
   ]
  },
  {
   "cell_type": "markdown",
   "id": "027bf8df",
   "metadata": {},
   "source": [
    "### Dimensionality reduction"
   ]
  },
  {
   "cell_type": "code",
   "execution_count": 7,
   "id": "48ba2c5b",
   "metadata": {},
   "outputs": [
    {
     "name": "stderr",
     "output_type": "stream",
     "text": [
      "c:\\Users\\nc298\\AppData\\Local\\anaconda3\\envs\\m4dvap\\Lib\\site-packages\\sklearn\\utils\\deprecation.py:151: FutureWarning: 'force_all_finite' was renamed to 'ensure_all_finite' in 1.6 and will be removed in 1.8.\n",
      "  warnings.warn(\n",
      "c:\\Users\\nc298\\AppData\\Local\\anaconda3\\envs\\m4dvap\\Lib\\site-packages\\umap\\umap_.py:1952: UserWarning: n_jobs value 1 overridden to 1 by setting random_state. Use no seed for parallelism.\n",
      "  warn(\n"
     ]
    }
   ],
   "source": [
    "# Standardize the feature set for clustering\n",
    "scaler = StandardScaler()\n",
    "X_scaled = scaler.fit_transform(features_df_without_id.values)\n",
    "\n",
    "# UMAP for enhanced clustering\n",
    "# Reduce the dimensionality of the feature set using UMAP\n",
    "reducer = umap.UMAP(n_neighbors=n_neighbors,\n",
    "                    min_dist=min_dist,\n",
    "                    n_components=n_components_umap, \n",
    "                    random_state=random_state,\n",
    "                    metric=metric)\n",
    "X_umap = reducer.fit_transform(X_scaled)"
   ]
  },
  {
   "cell_type": "markdown",
   "id": "034683c2",
   "metadata": {},
   "source": [
    "### Clustering"
   ]
  },
  {
   "cell_type": "code",
   "execution_count": 12,
   "id": "518e7cdb",
   "metadata": {},
   "outputs": [
    {
     "name": "stderr",
     "output_type": "stream",
     "text": [
      "c:\\Users\\nc298\\AppData\\Local\\anaconda3\\envs\\m4dvap\\Lib\\site-packages\\sklearn\\cluster\\_kmeans.py:1419: UserWarning: KMeans is known to have a memory leak on Windows with MKL, when there are less chunks than available threads. You can avoid it by setting the environment variable OMP_NUM_THREADS=9.\n",
      "  warnings.warn(\n"
     ]
    }
   ],
   "source": [
    "# Gaussian Mixture Model Clustering\n",
    "gmm = GaussianMixture(n_components=n_components_GMM, random_state=random_state)\n",
    "labels = gmm.fit_predict(X_umap)\n",
    "\n",
    "features_df['event_type'] = labels\n"
   ]
  },
  {
   "cell_type": "markdown",
   "id": "7b4b64bd",
   "metadata": {},
   "source": [
    "### Plot Clustering result for UMAP components 1 and 2"
   ]
  },
  {
   "cell_type": "code",
   "execution_count": 13,
   "id": "8c06aca6",
   "metadata": {},
   "outputs": [
    {
     "data": {
      "image/png": "[encoded data removed]",
      "text/plain": [
       "<Figure size 500x400 with 1 Axes>"
      ]
     },
     "metadata": {},
     "output_type": "display_data"
    }
   ],
   "source": [
    "plt.figure(figsize=(5, 4))\n",
    "unique_labels = np.unique(labels)\n",
    "for label in unique_labels:\n",
    "    mask = labels == label\n",
    "    plt.scatter(X_umap[mask, 0], X_umap[mask, 1], label=f'Cluster {label}', s=1)\n",
    "plt.legend()\n",
    "plt.xlabel('UMAP Component 1')\n",
    "plt.ylabel('UMAP Component 2')\n",
    "plt.show()"
   ]
  },
  {
   "cell_type": "markdown",
   "id": "9ed0fc78",
   "metadata": {},
   "source": [
    "### Save clustered change events"
   ]
  },
  {
   "cell_type": "code",
   "execution_count": null,
   "id": "060f19f7",
   "metadata": {},
   "outputs": [],
   "source": [
    "# Create a mapping from object_id to the chosen cluster label (event_type)\n",
    "label_mapping = dict(zip(features_df['object_id'], features_df['event_type']))\n",
    "\n",
    "# Update the original events by matching them by object_id.\n",
    "for event in events:\n",
    "    obj_id = event.get('object_id')\n",
    "    if obj_id in label_mapping:\n",
    "        event['event_type'] = int(label_mapping[obj_id])\n",
    "    else:\n",
    "        # Mark events dropped due to missing features as None\n",
    "        event['event_type'] = None\n",
    "\n",
    "# Save the updated events to a new JSON file.\n",
    "with open(labelled_file, 'w') as f:\n",
    "    json.dump(events, f, indent=4)\n"
   ]
  }
 ],
 "metadata": {
  "kernelspec": {
   "display_name": "Python 3",
   "language": "python",
   "name": "python3"
  },
  "language_info": {
   "codemirror_mode": {
    "name": "ipython",
    "version": 3
   },
   "file_extension": ".py",
   "mimetype": "text/x-python",
   "name": "python",
   "nbconvert_exporter": "python",
   "pygments_lexer": "ipython3",
   "version": "3.11.11"
  }
 },
 "nbformat": 4,
 "nbformat_minor": 5
}
