{
 "cells": [
  {
   "cell_type": "markdown",
   "id": "af8ab2dd",
   "metadata": {},
   "source": [
    "This notebook performs the following steps:\n",
    "\n",
    "- Imports necessary libraries for data manipulation, visualization, and machine learning.\n",
    "- Defines utility functions to load change events from a JSON file, extract a variety of features into a DataFrame, and plot clusters.\n",
    "- Loads change events, extracts features, and removes incomplete data.\n",
    "- Standardizes the features and uses UMAP to reduce dimensionality for clustering and visualization.\n",
    "- Applies Gaussian Mixture Model clustering to assign cluster labels.\n",
    "- Updates the original events with the new cluster labels and saves the results to a new JSON file."
   ]
  },
  {
   "cell_type": "code",
   "execution_count": 1,
   "id": "f2d22314",
   "metadata": {},
   "outputs": [
    {
     "name": "stdout",
     "output_type": "stream",
     "text": [
      "Requirement already satisfied: umap-learn in c:\\users\\nc298\\appdata\\local\\anaconda3\\envs\\aimon\\lib\\site-packages (0.5.7)\n",
      "Requirement already satisfied: scikit-learn in c:\\users\\nc298\\appdata\\local\\anaconda3\\envs\\aimon\\lib\\site-packages (1.6.1)\n",
      "Requirement already satisfied: pandas in c:\\users\\nc298\\appdata\\local\\anaconda3\\envs\\aimon\\lib\\site-packages (2.2.3)\n",
      "Requirement already satisfied: matplotlib in c:\\users\\nc298\\appdata\\local\\anaconda3\\envs\\aimon\\lib\\site-packages (3.10.1)\n",
      "Requirement already satisfied: numpy>=1.17 in c:\\users\\nc298\\appdata\\local\\anaconda3\\envs\\aimon\\lib\\site-packages (from umap-learn) (2.2.4)\n",
      "Requirement already satisfied: scipy>=1.3.1 in c:\\users\\nc298\\appdata\\local\\anaconda3\\envs\\aimon\\lib\\site-packages (from umap-learn) (1.15.2)\n",
      "Requirement already satisfied: numba>=0.51.2 in c:\\users\\nc298\\appdata\\local\\anaconda3\\envs\\aimon\\lib\\site-packages (from umap-learn) (0.61.2)\n",
      "Requirement already satisfied: pynndescent>=0.5 in c:\\users\\nc298\\appdata\\local\\anaconda3\\envs\\aimon\\lib\\site-packages (from umap-learn) (0.5.13)\n",
      "Requirement already satisfied: tqdm in c:\\users\\nc298\\appdata\\local\\anaconda3\\envs\\aimon\\lib\\site-packages (from umap-learn) (4.67.1)\n",
      "Requirement already satisfied: joblib>=1.2.0 in c:\\users\\nc298\\appdata\\local\\anaconda3\\envs\\aimon\\lib\\site-packages (from scikit-learn) (1.4.2)\n",
      "Requirement already satisfied: threadpoolctl>=3.1.0 in c:\\users\\nc298\\appdata\\local\\anaconda3\\envs\\aimon\\lib\\site-packages (from scikit-learn) (3.6.0)\n",
      "Requirement already satisfied: python-dateutil>=2.8.2 in c:\\users\\nc298\\appdata\\local\\anaconda3\\envs\\aimon\\lib\\site-packages (from pandas) (2.9.0.post0)\n",
      "Requirement already satisfied: pytz>=2020.1 in c:\\users\\nc298\\appdata\\local\\anaconda3\\envs\\aimon\\lib\\site-packages (from pandas) (2025.2)\n",
      "Requirement already satisfied: tzdata>=2022.7 in c:\\users\\nc298\\appdata\\local\\anaconda3\\envs\\aimon\\lib\\site-packages (from pandas) (2025.2)\n",
      "Requirement already satisfied: contourpy>=1.0.1 in c:\\users\\nc298\\appdata\\local\\anaconda3\\envs\\aimon\\lib\\site-packages (from matplotlib) (1.3.2)\n",
      "Requirement already satisfied: cycler>=0.10 in c:\\users\\nc298\\appdata\\local\\anaconda3\\envs\\aimon\\lib\\site-packages (from matplotlib) (0.12.1)\n",
      "Requirement already satisfied: fonttools>=4.22.0 in c:\\users\\nc298\\appdata\\local\\anaconda3\\envs\\aimon\\lib\\site-packages (from matplotlib) (4.57.0)\n",
      "Requirement already satisfied: kiwisolver>=1.3.1 in c:\\users\\nc298\\appdata\\local\\anaconda3\\envs\\aimon\\lib\\site-packages (from matplotlib) (1.4.8)\n",
      "Requirement already satisfied: packaging>=20.0 in c:\\users\\nc298\\appdata\\local\\anaconda3\\envs\\aimon\\lib\\site-packages (from matplotlib) (24.2)\n",
      "Requirement already satisfied: pillow>=8 in c:\\users\\nc298\\appdata\\local\\anaconda3\\envs\\aimon\\lib\\site-packages (from matplotlib) (11.2.1)\n",
      "Requirement already satisfied: pyparsing>=2.3.1 in c:\\users\\nc298\\appdata\\local\\anaconda3\\envs\\aimon\\lib\\site-packages (from matplotlib) (3.2.3)\n",
      "Requirement already satisfied: llvmlite<0.45,>=0.44.0dev0 in c:\\users\\nc298\\appdata\\local\\anaconda3\\envs\\aimon\\lib\\site-packages (from numba>=0.51.2->umap-learn) (0.44.0)\n",
      "Requirement already satisfied: six>=1.5 in c:\\users\\nc298\\appdata\\local\\anaconda3\\envs\\aimon\\lib\\site-packages (from python-dateutil>=2.8.2->pandas) (1.17.0)\n",
      "Requirement already satisfied: colorama in c:\\users\\nc298\\appdata\\local\\anaconda3\\envs\\aimon\\lib\\site-packages (from tqdm->umap-learn) (0.4.6)\n"
     ]
    }
   ],
   "source": [
    "# Install missing packages if required: UMAP with pip install umap-learn in notebook\n",
    "\n",
    "!python -m pip install umap-learn scikit-learn pandas matplotlib\n",
    "from aimon.helpers.classification import map_label_to_unlabelled_collection, save_events_to_json, plot_umap_clusters,load_and_prepare_data_for_UMAP\n",
    "from aimon import ProjectChange\n",
    "import os\n",
    "from sklearn.mixture import GaussianMixture\n",
    "import umap.umap_ as umap  # UMAP for dimensionality reduction\n",
    "\n",
    "# Set current directory to the location of the notebook (works even if __file__ is not defined)\n",
    "try:\n",
    "    current_dir = os.path.dirname(os.path.abspath(__file__))\n",
    "except NameError:\n",
    "    current_dir = os.getcwd()\n",
    "\n",
    "os.chdir(current_dir)"
   ]
  },
  {
   "cell_type": "markdown",
   "id": "bf64584f",
   "metadata": {},
   "source": [
    "### Relevant parameters"
   ]
  },
  {
   "cell_type": "code",
   "execution_count": 2,
   "id": "4503f5cb",
   "metadata": {},
   "outputs": [],
   "source": [
    "# Path to the unlabelled change events test file\n",
    "change_events_file = \"../test_data/change_events_unlabelled.json\"\n",
    "outfolder = \"../test_data/out\"\n",
    "\n",
    "\n",
    "random_state=42\n",
    "# Parameter for UMAP \n",
    "n_neighbors=50\n",
    "min_dist=0.1\n",
    "n_components_umap=2\n",
    "metric = \"manhattan\" \n",
    "\n",
    "# Parameter for clustering\n",
    "n_components_GMM=3\n",
    "\n",
    "os.makedirs(outfolder, exist_ok=True)\n",
    "# Path to the labelled change events file\n",
    "change_events_file_labelled = \"../test_data/change_events_labelled_using_umap_and_gmm.json\""
   ]
  },
  {
   "cell_type": "markdown",
   "id": "027bf8df",
   "metadata": {},
   "source": [
    "### Load unlabelled change events and reduce the dimensionality of the feature set using UMAP"
   ]
  },
  {
   "cell_type": "code",
   "execution_count": 3,
   "id": "48ba2c5b",
   "metadata": {},
   "outputs": [],
   "source": [
    "features_df_without_id, features_df, X_scaled, unlabelled_coll = load_and_prepare_data_for_UMAP(change_events_file)\n",
    "\n",
    "# UMAP for enhanced clustering\n",
    "reducer = umap.UMAP(n_neighbors=n_neighbors,\n",
    "                    min_dist=min_dist,\n",
    "                    n_components=n_components_umap, \n",
    "                    random_state=random_state,\n",
    "                    metric=metric)\n",
    "# Fit UMAP to the scaled data\n",
    "# Note: X_scaled is the scaled data, which is used for UMAP fitting and transformation\n",
    "X_umap = reducer.fit_transform(X_scaled)"
   ]
  },
  {
   "cell_type": "markdown",
   "id": "034683c2",
   "metadata": {},
   "source": [
    "### Gaussian Mixture Model Clustering"
   ]
  },
  {
   "cell_type": "code",
   "execution_count": 4,
   "id": "518e7cdb",
   "metadata": {},
   "outputs": [],
   "source": [
    "# Clustering using Gaussian Mixture Model (GMM)\n",
    "gmm = GaussianMixture(n_components=n_components_GMM, random_state=random_state)\n",
    "labels = gmm.fit_predict(X_umap)\n",
    "# Overwrite the labels in the features_df\n",
    "features_df['event_type'] = labels"
   ]
  },
  {
   "cell_type": "markdown",
   "id": "7b4b64bd",
   "metadata": {},
   "source": [
    "### Plot UMAP clusters"
   ]
  },
  {
   "cell_type": "code",
   "execution_count": 5,
   "id": "8c06aca6",
   "metadata": {},
   "outputs": [
    {
     "data": {
      "image/png": "[encoded data removed]",
      "text/plain": [
       "<Figure size 500x400 with 1 Axes>"
      ]
     },
     "metadata": {},
     "output_type": "display_data"
    }
   ],
   "source": [
    "# Plot UMAP clusters\n",
    "plot_umap_clusters(X_umap, labels)"
   ]
  },
  {
   "cell_type": "markdown",
   "id": "9ed0fc78",
   "metadata": {},
   "source": [
    "### Save clustered change events"
   ]
  },
  {
   "cell_type": "code",
   "execution_count": 6,
   "id": "060f19f7",
   "metadata": {},
   "outputs": [],
   "source": [
    "unlabelled_coll = map_label_to_unlabelled_collection(unlabelled_coll, features_df)\n",
    "save_events_to_json(unlabelled_coll, change_events_file_labelled)"
   ]
  },
  {
   "cell_type": "markdown",
   "id": "e0198f0b",
   "metadata": {},
   "source": [
    "# Save to .geojson for visual inspection"
   ]
  },
  {
   "cell_type": "code",
   "execution_count": 9,
   "id": "bc27368f",
   "metadata": {},
   "outputs": [
    {
     "name": "stdout",
     "output_type": "stream",
     "text": [
      "Missing some information, cannot find \n",
      "Missing some information, cannot project change into image\n"
     ]
    }
   ],
   "source": [
    "change_prj = ProjectChange(change_event_file = change_events_file_labelled,\n",
    "                           project_name = os.path.basename(change_events_file_labelled)[:-4],\n",
    "                           projected_image_folder = \"\",\n",
    "                           projected_events_folder = outfolder)\n",
    "change_prj.project_change()"
   ]
  }
 ],
 "metadata": {
  "kernelspec": {
   "display_name": "Python 3",
   "language": "python",
   "name": "python3"
  },
  "language_info": {
   "codemirror_mode": {
    "name": "ipython",
    "version": 3
   },
   "file_extension": ".py",
   "mimetype": "text/x-python",
   "name": "python",
   "nbconvert_exporter": "python",
   "pygments_lexer": "ipython3",
   "version": "3.11.11"
  }
 },
 "nbformat": 4,
 "nbformat_minor": 5
}
