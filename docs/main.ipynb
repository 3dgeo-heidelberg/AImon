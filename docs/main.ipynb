{
 "cells": [
  {
   "cell_type": "markdown",
   "id": "e1f983e8",
   "metadata": {},
   "source": [
    "# Main monitoring pipeline\n",
    "-- Description here --\n",
    "\n"
   ]
  },
  {
   "cell_type": "code",
   "execution_count": null,
   "id": "61ea7b6b",
   "metadata": {},
   "outputs": [],
   "source": [
    "# Imports\n",
    "import os\n",
    "import matplotlib.pyplot as plt\n",
    "from aimon import ProjectChange\n",
    "from aimon import ChangeEventCollection\n",
    "from aimon import utilities"
   ]
  },
  {
   "cell_type": "markdown",
   "id": "a43e53eb",
   "metadata": {},
   "source": [
    "## Running the main pipeline with two epochs"
   ]
  },
  {
   "cell_type": "code",
   "execution_count": null,
   "id": "e0fd6fb5",
   "metadata": {},
   "outputs": [],
   "source": [
    "# Define parameters\n",
    "# You may replace the test files with your own configuration and point cloud files\n",
    "config_file = r\".\\test_data\\trier_configuration.json\"\n",
    "laz_file_t0 = r\".\\test_data\\ScanPos001 - SINGLESCANS - 240826_010006.laz\"\n",
    "laz_file_t1 = r\".\\test_data\\ScanPos001 - SINGLESCANS - 240826_000005.laz\"\n",
    "\n",
    "# Run in standard mode\n",
    "!python ../src/aimon/main.py -c {config_file} -f {laz_file_t0} {laz_file_t0}"
   ]
  }
 ],
 "metadata": {
  "kernelspec": {
   "display_name": "helios-dev",
   "language": "python",
   "name": "python3"
  },
  "language_info": {
   "codemirror_mode": {
    "name": "ipython",
    "version": 3
   },
   "file_extension": ".py",
   "mimetype": "text/x-python",
   "name": "python",
   "nbconvert_exporter": "python",
   "pygments_lexer": "ipython3",
   "version": "3.13.2"
  }
 },
 "nbformat": 4,
 "nbformat_minor": 5
}
