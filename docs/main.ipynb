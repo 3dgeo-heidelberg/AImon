{
 "cells": [
  {
   "cell_type": "markdown",
   "id": "e1f983e8",
   "metadata": {},
   "source": [
    "# Main monitoring pipeline\n",
    "-- Description here --\n",
    "\n"
   ]
  },
  {
   "cell_type": "code",
   "execution_count": null,
   "id": "61ea7b6b",
   "metadata": {},
   "outputs": [
    {
     "data": {
      "text/plain": [
       "'/home/william/Documents/GitHub/AImon'"
      ]
     },
     "execution_count": 1,
     "metadata": {},
     "output_type": "execute_result"
    }
   ],
   "source": [
    "# Imports\n",
    "import os\n",
    "import matplotlib.pyplot as plt\n",
    "from aimon import ProjectChange\n",
    "from aimon import ChangeEventCollection\n",
    "from aimon import utilities\n",
    "\n",
    "# Set current directory to the location of the notebook (works even if __file__ is not defined)\n",
    "try:\n",
    "    current_dir = os.path.dirname(os.path.abspath(__file__))\n",
    "except NameError:\n",
    "    current_dir = os.getcwd()\n",
    "\n",
    "current_dir = os.path.dirname(current_dir)\n",
    "os.chdir(current_dir)"
   ]
  },
  {
   "cell_type": "markdown",
   "id": "a43e53eb",
   "metadata": {},
   "source": [
    "## Running the main pipeline with two epochs"
   ]
  },
  {
   "cell_type": "code",
   "execution_count": 3,
   "id": "e0fd6fb5",
   "metadata": {},
   "outputs": [
    {
     "name": "stdout",
     "output_type": "stream",
     "text": [
      "Computing...  ⢿ Calling load_las_files\n",
      "Computing...  ⣻ Function 'load_las_files' executed in 0.4193 seconds\n",
      "Calling load_las_files\n",
      "Computing...  ⣽ Function 'load_las_files' executed in 0.4019 seconds\n",
      "Calling BiTemporalVapc\n",
      "Function 'BiTemporalVapc' executed in 0.0000 seconds\n",
      "Calling prepare_data_for_mahalanobis_distance\n",
      "Calling compute_center_of_gravity\n",
      "Calling voxelize\n",
      "Function 'voxelize' executed in 0.0536 seconds\n",
      "Computing...  ⣾ Function 'compute_center_of_gravity' executed in 0.2320 seconds\n",
      "Calling compute_covariance_matrix\n",
      "Computing...  ⣯ Function 'compute_covariance_matrix' executed in 0.8752 seconds\n",
      "Calling reduce_to_voxels\n",
      "Computing...  ⣟ Function 'reduce_to_voxels' executed in 0.2631 seconds\n",
      "Calling compute_center_of_gravity\n",
      "Calling voxelize\n",
      "Function 'voxelize' executed in 0.0509 seconds\n",
      "Function 'compute_center_of_gravity' executed in 0.2236 seconds\n",
      "Calling compute_covariance_matrix\n",
      "Computing...  ⣻ Function 'compute_covariance_matrix' executed in 0.8804 seconds\n",
      "Calling reduce_to_voxels\n",
      "Computing...  ⣽ Function 'reduce_to_voxels' executed in 0.2529 seconds\n",
      "Function 'prepare_data_for_mahalanobis_distance' executed in 2.7273 seconds\n",
      "Calling merge_vapcs_with_same_voxel_index\n",
      "Calling voxelize\n",
      "Function 'voxelize' executed in 0.0014 seconds\n",
      "Calling compute_voxel_index\n",
      "Function 'compute_voxel_index' executed in 0.0028 seconds\n",
      "Calling voxelize\n",
      "Function 'voxelize' executed in 0.0014 seconds\n",
      "Calling compute_voxel_index\n",
      "Function 'compute_voxel_index' executed in 0.0008 seconds\n",
      "Function 'merge_vapcs_with_same_voxel_index' executed in 0.0106 seconds\n",
      "Calling compute_mahalanobis_distance\n",
      "Function 'compute_mahalanobis_distance' executed in 0.0070 seconds\n",
      "Calling compute_voxels_occupied_in_single_epoch\n",
      "Function 'compute_voxels_occupied_in_single_epoch' executed in 0.0020 seconds\n",
      "Calling prepare_data_for_export\n",
      "Function 'prepare_data_for_export' executed in 0.0032 seconds\n",
      "Calling save_to_las\n",
      "Calling save_as_las\n",
      "Traceback (most recent call last):\n",
      "  File \u001b[35m\"/home/william/Documents/GitHub/AImon/./src/aimon/main.py\"\u001b[0m, line \u001b[35m138\u001b[0m, in \u001b[35m<module>\u001b[0m\n",
      "    \u001b[31mmain\u001b[0m\u001b[1;31m()\u001b[0m\n",
      "    \u001b[31m~~~~\u001b[0m\u001b[1;31m^^\u001b[0m\n",
      "  File \u001b[35m\"/home/william/Documents/GitHub/AImon/./src/aimon/main.py\"\u001b[0m, line \u001b[35m85\u001b[0m, in \u001b[35mmain\u001b[0m\n",
      "    \u001b[31mcompute_bitemporal_vapc\u001b[0m\u001b[1;31m(\u001b[0m\n",
      "    \u001b[31m~~~~~~~~~~~~~~~~~~~~~~~\u001b[0m\u001b[1;31m^\u001b[0m\n",
      "        \u001b[1;31mt1_file,\u001b[0m\n",
      "        \u001b[1;31m^^^^^^^^\u001b[0m\n",
      "    ...<3 lines>...\n",
      "        \u001b[1;31mconfiguration\u001b[0m\n",
      "        \u001b[1;31m^^^^^^^^^^^^^\u001b[0m\n",
      "        \u001b[1;31m)\u001b[0m\n",
      "        \u001b[1;31m^\u001b[0m\n",
      "  File \u001b[35m\"/home/william/Documents/GitHub/AImon/src/aimon/voxel_wise_change_detection_01.py\"\u001b[0m, line \u001b[35m40\u001b[0m, in \u001b[35mcompute_bitemporal_vapc\u001b[0m\n",
      "    \u001b[31mextract_areas_with_change_using_mahalanobis_distance\u001b[0m\u001b[1;31m(t1_file, t2_file, mask_file, t1_vapc_out_file, t2_vapc_out_file, voxel_size, alpha_value, delete_mask_file=False)\u001b[0m\n",
      "    \u001b[31m~~~~~~~~~~~~~~~~~~~~~~~~~~~~~~~~~~~~~~~~~~~~~~~~~~~~\u001b[0m\u001b[1;31m^^^^^^^^^^^^^^^^^^^^^^^^^^^^^^^^^^^^^^^^^^^^^^^^^^^^^^^^^^^^^^^^^^^^^^^^^^^^^^^^^^^^^^^^^^^^^^^^^^^^^^^^^^^^^^^^^^\u001b[0m\n",
      "  File \u001b[35m\"/home/william/miniconda3/envs/helios-dev/lib/python3.13/site-packages/vapc/vapc_tools.py\"\u001b[0m, line \u001b[35m646\u001b[0m, in \u001b[35mextract_areas_with_change_using_mahalanobis_distance\u001b[0m\n",
      "    \u001b[31mbi_vapc.save_to_las\u001b[0m\u001b[1;31m(mask_file)\u001b[0m\n",
      "    \u001b[31m~~~~~~~~~~~~~~~~~~~\u001b[0m\u001b[1;31m^^^^^^^^^^^\u001b[0m\n",
      "  File \u001b[35m\"/home/william/miniconda3/envs/helios-dev/lib/python3.13/site-packages/vapc/utilities.py\"\u001b[0m, line \u001b[35m88\u001b[0m, in \u001b[35mwrapper\u001b[0m\n",
      "    return func(*args, **kwargs)\n",
      "  File \u001b[35m\"/home/william/miniconda3/envs/helios-dev/lib/python3.13/site-packages/vapc/utilities.py\"\u001b[0m, line \u001b[35m103\u001b[0m, in \u001b[35mwrapper\u001b[0m\n",
      "    result = func(*args, **kwargs)\n",
      "  File \u001b[35m\"/home/william/miniconda3/envs/helios-dev/lib/python3.13/site-packages/vapc/bi_vapc.py\"\u001b[0m, line \u001b[35m169\u001b[0m, in \u001b[35msave_to_las\u001b[0m\n",
      "    \u001b[31mdh.save_as_las\u001b[0m\u001b[1;31m(output_file)\u001b[0m\n",
      "    \u001b[31m~~~~~~~~~~~~~~\u001b[0m\u001b[1;31m^^^^^^^^^^^^^\u001b[0m\n",
      "  File \u001b[35m\"/home/william/miniconda3/envs/helios-dev/lib/python3.13/site-packages/vapc/utilities.py\"\u001b[0m, line \u001b[35m88\u001b[0m, in \u001b[35mwrapper\u001b[0m\n",
      "    return func(*args, **kwargs)\n",
      "  File \u001b[35m\"/home/william/miniconda3/envs/helios-dev/lib/python3.13/site-packages/vapc/utilities.py\"\u001b[0m, line \u001b[35m103\u001b[0m, in \u001b[35mwrapper\u001b[0m\n",
      "    result = func(*args, **kwargs)\n",
      "  File \u001b[35m\"/home/william/miniconda3/envs/helios-dev/lib/python3.13/site-packages/vapc/datahandler.py\"\u001b[0m, line \u001b[35m137\u001b[0m, in \u001b[35msave_as_las\u001b[0m\n",
      "    las_offset = np.min(self.df[[\"X\", \"Y\", \"Z\"]].values, axis=0)\n",
      "  File \u001b[35m\"/home/william/miniconda3/envs/helios-dev/lib/python3.13/site-packages/numpy/_core/fromnumeric.py\"\u001b[0m, line \u001b[35m3302\u001b[0m, in \u001b[35mmin\u001b[0m\n",
      "    return _wrapreduction(a, np.minimum, 'min', axis, None, out,\n",
      "                          keepdims=keepdims, initial=initial, where=where)\n",
      "  File \u001b[35m\"/home/william/miniconda3/envs/helios-dev/lib/python3.13/site-packages/numpy/_core/fromnumeric.py\"\u001b[0m, line \u001b[35m86\u001b[0m, in \u001b[35m_wrapreduction\u001b[0m\n",
      "    return \u001b[31mufunc.reduce\u001b[0m\u001b[1;31m(obj, axis, dtype, out, **passkwargs)\u001b[0m\n",
      "           \u001b[31m~~~~~~~~~~~~\u001b[0m\u001b[1;31m^^^^^^^^^^^^^^^^^^^^^^^^^^^^^^^^^^^^^\u001b[0m\n",
      "\u001b[1;35mValueError\u001b[0m: \u001b[35mzero-size array to reduction operation minimum which has no identity\u001b[0m\n"
     ]
    }
   ],
   "source": [
    "# Define parameters\n",
    "# You may replace the test files with your own configuration and point cloud files\n",
    "config_file = \"./test_data/trier_configuration.json\"\n",
    "laz_file_t0 = \"./test_data/240826_000005.laz\"\n",
    "laz_file_t1 = \"./test_data/240826_010006.laz\"\n",
    "\n",
    "# Run in standard mode\n",
    "!python ./src/aimon/main.py -c {config_file} -f {laz_file_t0} {laz_file_t0}"
   ]
  }
 ],
 "metadata": {
  "kernelspec": {
   "display_name": "helios-dev",
   "language": "python",
   "name": "python3"
  },
  "language_info": {
   "codemirror_mode": {
    "name": "ipython",
    "version": 3
   },
   "file_extension": ".py",
   "mimetype": "text/x-python",
   "name": "python",
   "nbconvert_exporter": "python",
   "pygments_lexer": "ipython3",
   "version": "3.13.2"
  }
 },
 "nbformat": 4,
 "nbformat_minor": 5
}
