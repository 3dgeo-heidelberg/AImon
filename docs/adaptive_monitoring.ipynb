{
 "cells": [
  {
   "cell_type": "markdown",
   "id": "e1f983e8",
   "metadata": {},
   "source": [
    "# Adaptive Monitoring Pipeline\n",
    "Adaptive recording workflows are derived to control the permanent laser scanner. Adaptive means that the data acquisition can be adapted by the system according to defined rules and on the basis of the data already recorded, so that changes can ultimately be recognized more accurately and classified better. This can affect the spatial resolution and extent as well as the time interval of the recording.\n",
    "\n",
    "## Workflow and example\n",
    "As a proof of concept and in order to maintain generalisability and independent of specific scanning device manufacturers, we use virtual laser scanning of dynamic 3D scenes for this step.\n",
    "The virtual laser scanner copies the position and scan settings according to those of the real study site. As in the real study site, the virtual recording interval is also 1 hour. This is the standard mode. However, in adaptive mode, the extension we propose, a signal is sent to the scanner at the end of the hierarchical change analysis, indicating whether change has taken place or not. If so, the FOV is updated according to the change. The scan resolution is doubled both horizontally and vertically. With these settings, a recording is then made 30 minutes later instead of 60 minutes. In addition, for completeness, a standard scan is also recorded to ensure that no changes are missed. A 3D model of the area under investigation is used as the basic scene. We simulate a rock topple with subsequent rock fall. We show that under given circumstances, subsequent changes can be recognised more quickly and in higher resolution.\n",
    "\n",
    "The following table gives an overview of the scenario that is used to test adaptive monitoring.\n",
    "| Scene name            | S0: Initial scene      | S1: Rock topple      | S2: Rock fall       |\n",
    "|-----------------------|------------------------|----------------------|---------------------|\n",
    "| **Change occurs at:** | No change until 12:50  | At 12:50             | At 13:10            |\n",
    "| **Earliest detection via adaptive monitoring** | 12:00               | 13:00                | **13:30**           |\n",
    "| **Earliest detection via regular monitoring**  | 12:00               | 13:00                | 14:00               |\n",
    "\n",
    "\n",
    "This notebook demonstrates how to run the `adaptive_pipeline.py` script with the standard and adaptive modes. It includes a single code cell to launch the simulation and change-detection pipeline.\n",
    "\n",
    "**Key steps:**\n",
    "1. **Standard vs Adaptive Mode**: Standard mode uses fixed intervals (60 min overview scans), adaptive mode reduces interval to 30 min after detecting change.\n",
    "2. **Overview & Detail Scans**: Overview scan always runs; detail (high‐res) scan runs when change detected and FOV updated.\n",
    "3. **Change Detection**: VAPC-based change detection flags areas of significant change, triggers M3C2 and clustering.\n",
    "4. **Parameters**: Set `--helios_root`, `--output_folder`, and optionally `--adaptive`.\n"
   ]
  },
  {
   "cell_type": "markdown",
   "id": "c0f67b35",
   "metadata": {},
   "source": [
    "## Install HELIOS++ and copy the test data\n",
    "* To install pyhelios follow the instructions given at https://github.com/3dgeo-heidelberg/helios\n",
    "* Using the path to the helios root you can execute the next cell to unzip the data required for the lidar simulation"
   ]
  },
  {
   "cell_type": "code",
   "execution_count": null,
   "id": "4971b5b9",
   "metadata": {},
   "outputs": [],
   "source": [
    "# importing the zipfile module \n",
    "from zipfile import ZipFile \n",
    "import os\n",
    "\n",
    "helios_root = r\"your_path_to_helios_root\"  # Replace with your actual path\n",
    "\n",
    "zip_path = r\"../test_data/data_for_aimon.zip\"\n",
    "out_folder = os.path.join(helios_root, os.path.basename(zip_path)[:-4])\n",
    "\n",
    "#Unzip the data to the helios root directory\n",
    "with ZipFile(zip_path, 'r') as z_object: \n",
    "    # Extracting all the members of the zip  \n",
    "    # into a specific location. \n",
    "    z_object.extractall( \n",
    "        path=out_folder) \n"
   ]
  },
  {
   "cell_type": "markdown",
   "id": "a43e53eb",
   "metadata": {},
   "source": [
    "## Running the adaptive monitoring system\n",
    "\n",
    "The output point clouds will be generated for the standard and adaptive mode in their respective folder."
   ]
  },
  {
   "cell_type": "code",
   "execution_count": null,
   "id": "e0fd6fb5",
   "metadata": {},
   "outputs": [],
   "source": [
    "# Define parameters\n",
    "output_folder_standard_mode = r\"your_path_to_output_standard_mode\"  # Replace with your actual path\n",
    "output_folder_adaptive_mode = r\"your_path_to_output_adaptive_mode\"  # Replace with your actual path\n",
    "\n",
    "# Run in standard mode\n",
    "!python ../src/aimon/adaptive_pipeline.py --helios_root {helios_root} --output_folder {output_folder_standard_mode}\n",
    "\n",
    "# Run in adaptive mode\n",
    "!python ../src/aimon/adaptive_pipeline.py --helios_root {helios_root} --output_folder {output_folder_adaptive_mode} --adaptive"
   ]
  }
 ],
 "metadata": {
  "kernelspec": {
   "display_name": "helios-dev",
   "language": "python",
   "name": "python3"
  },
  "language_info": {
   "codemirror_mode": {
    "name": "ipython",
    "version": 3
   },
   "file_extension": ".py",
   "mimetype": "text/x-python",
   "name": "python",
   "nbconvert_exporter": "python",
   "pygments_lexer": "ipython3",
   "version": "3.13.2"
  }
 },
 "nbformat": 4,
 "nbformat_minor": 5
}
