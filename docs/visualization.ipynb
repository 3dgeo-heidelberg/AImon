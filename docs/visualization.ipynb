{
 "cells": [
  {
   "cell_type": "markdown",
   "id": "0",
   "metadata": {},
   "source": [
    "# Basic visualization demonstration"
   ]
  },
  {
   "cell_type": "markdown",
   "id": "1",
   "metadata": {},
   "source": [
    "This presents how the visualization module can be run using the `py4dgeo` package to project a point cloud. As a first step, we import the `py4dgeo` packages:"
   ]
  },
  {
   "cell_type": "code",
   "execution_count": null,
   "id": "2",
   "metadata": {},
   "outputs": [],
   "source": [
    "import py4dgeo\n",
    "from py4dgeo.util import find_file\n",
    "import pathlib"
   ]
  },
  {
   "cell_type": "markdown",
   "id": "3",
   "metadata": {},
   "source": [
    "Next, we need to load one dataset. Here, we work with a rather small synthetical data set. Once the epoch is loaded, we need to add the coordinate from where the projection is done. The best position is often the coordinates of the scanner the captured the point cloud."
   ]
  },
  {
   "cell_type": "code",
   "execution_count": null,
   "id": "4",
   "metadata": {},
   "outputs": [],
   "source": [
    "t1_file = find_file(\"ahk_2017_652900_5189100_gnd_subarea.laz\")\n",
    "\n",
    "epoch = py4dgeo.read_from_las(t1_file)\n",
    "epoch.scanpos_info = [652924, 5189200, 2514] # scanner position ([X, Y, Z])\n",
    "project_name = \"p4dgeo_image_projection\"\n",
    "output_image_folder = f\"{pathlib.Path.home()}/Desktop\""
   ]
  },
  {
   "cell_type": "markdown",
   "id": "66320091",
   "metadata": {},
   "source": [
    "To project the point cloud, we use the \"PCloudProjection\" method. Here, we use the default parameters and save the image."
   ]
  },
  {
   "cell_type": "code",
   "execution_count": null,
   "id": "452a3414",
   "metadata": {},
   "outputs": [],
   "source": [
    "epoch.project_pc(projected_image_folder=output_image_folder, save_image=True)"
   ]
  }
 ],
 "metadata": {
  "kernelspec": {
   "display_name": "py4dgeo",
   "language": "python",
   "name": "python3"
  },
  "language_info": {
   "codemirror_mode": {
    "name": "ipython",
    "version": 3
   },
   "file_extension": ".py",
   "mimetype": "text/x-python",
   "name": "python",
   "nbconvert_exporter": "python",
   "pygments_lexer": "ipython3",
   "version": "3.11.11"
  }
 },
 "nbformat": 4,
 "nbformat_minor": 5
}
