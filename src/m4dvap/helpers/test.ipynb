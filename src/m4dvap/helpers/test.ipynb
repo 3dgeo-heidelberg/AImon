{
 "cells": [
  {
   "cell_type": "code",
   "execution_count": 4,
   "metadata": {},
   "outputs": [],
   "source": [
    "import laspy\n",
    "from las_split_append_merge import *\n",
    "\n",
    "fsp = [r\"E:\\laz_temp\\2024_03_Trier_UAV.laz\",\n",
    "    r\"E:\\laz_temp\\red_1.las\"]\n",
    "\n",
    "for fp in fsp:\n",
    "    if fp.endswith(\".laz\"):\n",
    "        laSZ_to_laSZ(fp,fp[:-4]+\".las\")\n"
   ]
  },
  {
   "cell_type": "code",
   "execution_count": 1,
   "metadata": {},
   "outputs": [],
   "source": [
    "import laspy\n",
    "infiles = [\n",
    "        r\"E:\\ri_scan_projects\\priv\\2024-09-15_nils.RiSCAN\\EXPORTS\\Scan Positions\\ScanPos006 - SINGLESCANS - 240915_140137.laz\",\n",
    "        r\"E:\\ri_scan_projects\\priv\\2024-09-15_nils.RiSCAN\\EXPORTS\\Scan Positions\\ScanPos002 - SINGLESCANS - 240915_135542.laz\"]\n",
    "\n",
    "outfile = r\"E:\\ri_scan_projects\\priv\\2024-09-15_nils.RiSCAN\\EXPORTS\\Scan Positions\\merged_las.las\""
   ]
  },
  {
   "cell_type": "code",
   "execution_count": 2,
   "metadata": {},
   "outputs": [
    {
     "ename": "LaspyException",
     "evalue": "Point formats do not match",
     "output_type": "error",
     "traceback": [
      "\u001b[1;31m---------------------------------------------------------------------------\u001b[0m",
      "\u001b[1;31mLaspyException\u001b[0m                            Traceback (most recent call last)",
      "Cell \u001b[1;32mIn[2], line 17\u001b[0m\n\u001b[0;32m     14\u001b[0m                 lf_aa\u001b[38;5;241m.\u001b[39mZ \u001b[38;5;241m=\u001b[39m (lf_aa\u001b[38;5;241m.\u001b[39mz \u001b[38;5;241m-\u001b[39m offsets[\u001b[38;5;241m2\u001b[39m]) \u001b[38;5;241m/\u001b[39m scales[\u001b[38;5;241m2\u001b[39m]\n\u001b[0;32m     15\u001b[0m                 lf\u001b[38;5;241m.\u001b[39mappend_points(lf_aa\u001b[38;5;241m.\u001b[39mpoints)\n\u001b[1;32m---> 17\u001b[0m \u001b[43mlas_merge\u001b[49m\u001b[43m(\u001b[49m\u001b[43minfiles\u001b[49m\u001b[43m,\u001b[49m\u001b[43moutfile\u001b[49m\u001b[43m)\u001b[49m\n",
      "Cell \u001b[1;32mIn[2], line 15\u001b[0m, in \u001b[0;36mlas_merge\u001b[1;34m(filepaths, outfile)\u001b[0m\n\u001b[0;32m     13\u001b[0m lf_aa\u001b[38;5;241m.\u001b[39mY \u001b[38;5;241m=\u001b[39m (lf_aa\u001b[38;5;241m.\u001b[39my \u001b[38;5;241m-\u001b[39m offsets[\u001b[38;5;241m1\u001b[39m]) \u001b[38;5;241m/\u001b[39m scales[\u001b[38;5;241m1\u001b[39m]\n\u001b[0;32m     14\u001b[0m lf_aa\u001b[38;5;241m.\u001b[39mZ \u001b[38;5;241m=\u001b[39m (lf_aa\u001b[38;5;241m.\u001b[39mz \u001b[38;5;241m-\u001b[39m offsets[\u001b[38;5;241m2\u001b[39m]) \u001b[38;5;241m/\u001b[39m scales[\u001b[38;5;241m2\u001b[39m]\n\u001b[1;32m---> 15\u001b[0m \u001b[43mlf\u001b[49m\u001b[38;5;241;43m.\u001b[39;49m\u001b[43mappend_points\u001b[49m\u001b[43m(\u001b[49m\u001b[43mlf_aa\u001b[49m\u001b[38;5;241;43m.\u001b[39;49m\u001b[43mpoints\u001b[49m\u001b[43m)\u001b[49m\n",
      "File \u001b[1;32mc:\\Users\\nc298\\AppData\\Local\\anaconda3\\envs\\vasp\\lib\\site-packages\\laspy\\lasappender.py:71\u001b[0m, in \u001b[0;36mLasAppender.append_points\u001b[1;34m(self, points)\u001b[0m\n\u001b[0;32m     64\u001b[0m \u001b[38;5;250m\u001b[39m\u001b[38;5;124;03m\"\"\"Append the points to the file, the points\u001b[39;00m\n\u001b[0;32m     65\u001b[0m \u001b[38;5;124;03mmust have the same point format as the points\u001b[39;00m\n\u001b[0;32m     66\u001b[0m \u001b[38;5;124;03malready contained within the file.\u001b[39;00m\n\u001b[0;32m     67\u001b[0m \n\u001b[0;32m     68\u001b[0m \u001b[38;5;124;03m:param points: The points to append\u001b[39;00m\n\u001b[0;32m     69\u001b[0m \u001b[38;5;124;03m\"\"\"\u001b[39;00m\n\u001b[0;32m     70\u001b[0m \u001b[38;5;28;01mif\u001b[39;00m points\u001b[38;5;241m.\u001b[39mpoint_format \u001b[38;5;241m!=\u001b[39m \u001b[38;5;28mself\u001b[39m\u001b[38;5;241m.\u001b[39mheader\u001b[38;5;241m.\u001b[39mpoint_format:\n\u001b[1;32m---> 71\u001b[0m     \u001b[38;5;28;01mraise\u001b[39;00m LaspyException(\u001b[38;5;124m\"\u001b[39m\u001b[38;5;124mPoint formats do not match\u001b[39m\u001b[38;5;124m\"\u001b[39m)\n\u001b[0;32m     73\u001b[0m \u001b[38;5;28;01mif\u001b[39;00m \u001b[38;5;28mself\u001b[39m\u001b[38;5;241m.\u001b[39mheader\u001b[38;5;241m.\u001b[39mmax_point_count() \u001b[38;5;241m-\u001b[39m \u001b[38;5;28mself\u001b[39m\u001b[38;5;241m.\u001b[39mheader\u001b[38;5;241m.\u001b[39mpoint_count \u001b[38;5;241m<\u001b[39m \u001b[38;5;28mlen\u001b[39m(points):\n\u001b[0;32m     74\u001b[0m     \u001b[38;5;28;01mraise\u001b[39;00m LaspyException(\n\u001b[0;32m     75\u001b[0m         \u001b[38;5;124m\"\u001b[39m\u001b[38;5;124mCannot write \u001b[39m\u001b[38;5;132;01m{}\u001b[39;00m\u001b[38;5;124m points as it would exceed the maximum number of points the file\u001b[39m\u001b[38;5;124m\"\u001b[39m\n\u001b[0;32m     76\u001b[0m         \u001b[38;5;124m\"\u001b[39m\u001b[38;5;124mcan store. Current point count: \u001b[39m\u001b[38;5;132;01m{}\u001b[39;00m\u001b[38;5;124m, max point count: \u001b[39m\u001b[38;5;132;01m{}\u001b[39;00m\u001b[38;5;124m\"\u001b[39m\u001b[38;5;241m.\u001b[39mformat(\n\u001b[0;32m     77\u001b[0m             \u001b[38;5;28mlen\u001b[39m(points), \u001b[38;5;28mself\u001b[39m\u001b[38;5;241m.\u001b[39mheader\u001b[38;5;241m.\u001b[39mpoint_count, \u001b[38;5;28mself\u001b[39m\u001b[38;5;241m.\u001b[39mheader\u001b[38;5;241m.\u001b[39mmax_point_count()\n\u001b[0;32m     78\u001b[0m         )\n\u001b[0;32m     79\u001b[0m     )\n",
      "\u001b[1;31mLaspyException\u001b[0m: Point formats do not match"
     ]
    }
   ],
   "source": [
    "\n",
    "def las_merge(filepaths,\n",
    "              outfile):\n",
    "    with laspy.open(filepaths[0],\"r\") as lf_0:\n",
    "        las = lf_0.read()\n",
    "        las.write(outfile)\n",
    "    with laspy.open(outfile,\"a\") as lf:\n",
    "        scales = lf.header.scales\n",
    "        offsets = lf.header.offsets\n",
    "        for file in filepaths[1:]:\n",
    "            with laspy.open(file) as lf_a:\n",
    "                lf_aa = lf_a.read()\n",
    "                lf_aa.X = (lf_aa.x - offsets[0]) / scales[0]\n",
    "                lf_aa.Y = (lf_aa.y - offsets[1]) / scales[1]\n",
    "                lf_aa.Z = (lf_aa.z - offsets[2]) / scales[2]\n",
    "                lf.append_points(lf_aa.points)\n",
    "\n",
    "las_merge(infiles,outfile)"
   ]
  },
  {
   "cell_type": "code",
   "execution_count": 26,
   "metadata": {},
   "outputs": [
    {
     "ename": "LaspyException",
     "evalue": "Point formats do not match",
     "output_type": "error",
     "traceback": [
      "\u001b[1;31m---------------------------------------------------------------------------\u001b[0m",
      "\u001b[1;31mLaspyException\u001b[0m                            Traceback (most recent call last)",
      "Cell \u001b[1;32mIn[26], line 24\u001b[0m\n\u001b[0;32m     22\u001b[0m lf_aa\u001b[38;5;241m.\u001b[39mY \u001b[38;5;241m=\u001b[39m (lf_aa\u001b[38;5;241m.\u001b[39my \u001b[38;5;241m-\u001b[39m offsets[\u001b[38;5;241m1\u001b[39m]) \u001b[38;5;241m/\u001b[39m scales[\u001b[38;5;241m1\u001b[39m]\n\u001b[0;32m     23\u001b[0m lf_aa\u001b[38;5;241m.\u001b[39mZ \u001b[38;5;241m=\u001b[39m (lf_aa\u001b[38;5;241m.\u001b[39mz \u001b[38;5;241m-\u001b[39m offsets[\u001b[38;5;241m2\u001b[39m]) \u001b[38;5;241m/\u001b[39m scales[\u001b[38;5;241m2\u001b[39m]\n\u001b[1;32m---> 24\u001b[0m \u001b[43mlf\u001b[49m\u001b[38;5;241;43m.\u001b[39;49m\u001b[43mappend_points\u001b[49m\u001b[43m(\u001b[49m\u001b[43mlf_aa\u001b[49m\u001b[38;5;241;43m.\u001b[39;49m\u001b[43mpoints\u001b[49m\u001b[43m)\u001b[49m\n",
      "File \u001b[1;32mc:\\Users\\nc298\\AppData\\Local\\anaconda3\\envs\\vasp\\lib\\site-packages\\laspy\\lasappender.py:71\u001b[0m, in \u001b[0;36mLasAppender.append_points\u001b[1;34m(self, points)\u001b[0m\n\u001b[0;32m     64\u001b[0m \u001b[38;5;250m\u001b[39m\u001b[38;5;124;03m\"\"\"Append the points to the file, the points\u001b[39;00m\n\u001b[0;32m     65\u001b[0m \u001b[38;5;124;03mmust have the same point format as the points\u001b[39;00m\n\u001b[0;32m     66\u001b[0m \u001b[38;5;124;03malready contained within the file.\u001b[39;00m\n\u001b[0;32m     67\u001b[0m \n\u001b[0;32m     68\u001b[0m \u001b[38;5;124;03m:param points: The points to append\u001b[39;00m\n\u001b[0;32m     69\u001b[0m \u001b[38;5;124;03m\"\"\"\u001b[39;00m\n\u001b[0;32m     70\u001b[0m \u001b[38;5;28;01mif\u001b[39;00m points\u001b[38;5;241m.\u001b[39mpoint_format \u001b[38;5;241m!=\u001b[39m \u001b[38;5;28mself\u001b[39m\u001b[38;5;241m.\u001b[39mheader\u001b[38;5;241m.\u001b[39mpoint_format:\n\u001b[1;32m---> 71\u001b[0m     \u001b[38;5;28;01mraise\u001b[39;00m LaspyException(\u001b[38;5;124m\"\u001b[39m\u001b[38;5;124mPoint formats do not match\u001b[39m\u001b[38;5;124m\"\u001b[39m)\n\u001b[0;32m     73\u001b[0m \u001b[38;5;28;01mif\u001b[39;00m \u001b[38;5;28mself\u001b[39m\u001b[38;5;241m.\u001b[39mheader\u001b[38;5;241m.\u001b[39mmax_point_count() \u001b[38;5;241m-\u001b[39m \u001b[38;5;28mself\u001b[39m\u001b[38;5;241m.\u001b[39mheader\u001b[38;5;241m.\u001b[39mpoint_count \u001b[38;5;241m<\u001b[39m \u001b[38;5;28mlen\u001b[39m(points):\n\u001b[0;32m     74\u001b[0m     \u001b[38;5;28;01mraise\u001b[39;00m LaspyException(\n\u001b[0;32m     75\u001b[0m         \u001b[38;5;124m\"\u001b[39m\u001b[38;5;124mCannot write \u001b[39m\u001b[38;5;132;01m{}\u001b[39;00m\u001b[38;5;124m points as it would exceed the maximum number of points the file\u001b[39m\u001b[38;5;124m\"\u001b[39m\n\u001b[0;32m     76\u001b[0m         \u001b[38;5;124m\"\u001b[39m\u001b[38;5;124mcan store. Current point count: \u001b[39m\u001b[38;5;132;01m{}\u001b[39;00m\u001b[38;5;124m, max point count: \u001b[39m\u001b[38;5;132;01m{}\u001b[39;00m\u001b[38;5;124m\"\u001b[39m\u001b[38;5;241m.\u001b[39mformat(\n\u001b[0;32m     77\u001b[0m             \u001b[38;5;28mlen\u001b[39m(points), \u001b[38;5;28mself\u001b[39m\u001b[38;5;241m.\u001b[39mheader\u001b[38;5;241m.\u001b[39mpoint_count, \u001b[38;5;28mself\u001b[39m\u001b[38;5;241m.\u001b[39mheader\u001b[38;5;241m.\u001b[39mmax_point_count()\n\u001b[0;32m     78\u001b[0m         )\n\u001b[0;32m     79\u001b[0m     )\n",
      "\u001b[1;31mLaspyException\u001b[0m: Point formats do not match"
     ]
    }
   ],
   "source": [
    "\n",
    "with laspy.open(infiles[0],\"r\") as lf_0:\n",
    "    las = lf_0.read()\n",
    "    las.write(outfile)\n",
    "    existing_attributes = [las.points.array.dtype.names]\n",
    "    with laspy.open(outfile,\"a\") as lf:\n",
    "        scales = lf.header.scales\n",
    "        offsets = lf.header.offsets\n",
    "        for file in infiles[1:]:\n",
    "            with laspy.open(file) as lf_a:\n",
    "                lf_aa = lf_a.read()\n",
    "                new_attributes = lf_aa.points.array.dtype.names\n",
    "                in_both = []\n",
    "                only_in_new = []\n",
    "                only_in_old = []\n",
    "                for new_attr in existing_attributes:\n",
    "                    if new_attr in existing_attributes:\n",
    "                        in_both.append(new_attr)\n",
    "                        existing_attributes.remove(new_attr)\n",
    "                    if not new_attr in existing_attributes:\n",
    "                        only_in_new.append(existing_attributes)\n",
    "\n",
    "                lf_aa.X = (lf_aa.x - offsets[0]) / scales[0]\n",
    "                lf_aa.Y = (lf_aa.y - offsets[1]) / scales[1]\n",
    "                lf_aa.Z = (lf_aa.z - offsets[2]) / scales[2]\n",
    "                lf.append_points(lf_aa.points)\n"
   ]
  },
  {
   "cell_type": "code",
   "execution_count": 25,
   "metadata": {},
   "outputs": [
    {
     "data": {
      "text/plain": [
       "(('X',\n",
       "  'Y',\n",
       "  'Z',\n",
       "  'intensity',\n",
       "  'bit_fields',\n",
       "  'classification_flags',\n",
       "  'classification',\n",
       "  'user_data',\n",
       "  'scan_angle',\n",
       "  'point_source_id',\n",
       "  'gps_time',\n",
       "  'red',\n",
       "  'green',\n",
       "  'blue',\n",
       "  'Amplitude',\n",
       "  'Reflectance',\n",
       "  'Deviation'),\n",
       " [('X',\n",
       "   'Y',\n",
       "   'Z',\n",
       "   'intensity',\n",
       "   'bit_fields',\n",
       "   'raw_classification',\n",
       "   'scan_angle_rank',\n",
       "   'user_data',\n",
       "   'point_source_id',\n",
       "   'gps_time',\n",
       "   'red',\n",
       "   'green',\n",
       "   'blue',\n",
       "   'Amplitude',\n",
       "   'Reflectance',\n",
       "   'Deviation')])"
      ]
     },
     "execution_count": 25,
     "metadata": {},
     "output_type": "execute_result"
    }
   ],
   "source": [
    "len(new_attributes),len(in_both)"
   ]
  }
 ],
 "metadata": {
  "kernelspec": {
   "display_name": "Python 3",
   "language": "python",
   "name": "python3"
  },
  "language_info": {
   "codemirror_mode": {
    "name": "ipython",
    "version": 3
   },
   "file_extension": ".py",
   "mimetype": "text/x-python",
   "name": "python",
   "nbconvert_exporter": "python",
   "pygments_lexer": "ipython3",
   "version": "3.10.9"
  }
 },
 "nbformat": 4,
 "nbformat_minor": 2
}
